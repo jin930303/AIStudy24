{
  "nbformat": 4,
  "nbformat_minor": 0,
  "metadata": {
    "colab": {
      "provenance": [],
      "authorship_tag": "ABX9TyNGVQ9LCvYzoIZKasiT8kOs",
      "include_colab_link": true
    },
    "kernelspec": {
      "name": "python3",
      "display_name": "Python 3"
    },
    "language_info": {
      "name": "python"
    }
  },
  "cells": [
    {
      "cell_type": "markdown",
      "metadata": {
        "id": "view-in-github",
        "colab_type": "text"
      },
      "source": [
        "<a href=\"https://colab.research.google.com/github/jin930303/AIStudy24/blob/master/%ED%99%95%EB%A5%A0%EC%A0%81%EA%B2%BD%EC%82%AC%ED%95%98%EA%B0%95%EB%B2%95.ipynb\" target=\"_parent\"><img src=\"https://colab.research.google.com/assets/colab-badge.svg\" alt=\"Open In Colab\"/></a>"
      ]
    },
    {
      "cell_type": "markdown",
      "source": [
        "MBC 마켓의 럭키백 성공으로 인해 각각의 지역에서 수산물을 제공하기로 하였다.\n",
        "\n",
        "영업팀은 매주 7개의 생선 중에서 일부를 무작위로 골라 머신러닝 모델을 학습할 수 있게 훈련 데이터를 제공하고 있다.\n",
        "\n",
        "하지만 수산물을 제공한다는 곳이 너무 많아서 샘플을 골라내는 일이 너무 힘들다.\n",
        "\n",
        "추가되는 수산물의 샘플도 없다.\n",
        "\n",
        "영업팀은 새로운 생선이 도착하는대로 가능한 즉시 훈련 데이터를 제공해야 한다."
      ],
      "metadata": {
        "id": "kIa0ViBMHbVN"
      }
    },
    {
      "cell_type": "markdown",
      "source": [
        "#점진적 학습\n",
        "\n",
        "##당면한 문제 : 훈련데이터가 한번에 준비되는 것이 아니라 조금씩 전달됨\n",
        "\n",
        "<Br>\n",
        "해결법1 : 기존의 훈련 데이터에 새로운 데이터를 추가하여 모델을 매일 매일 다시 훈련\n",
        "\n",
        "단점 : 시간이 지날수록 데이터가 늘어남  - > 인력추가, 서버증설, 시간적 여유가 줄어든다.  -> 지속가능할까?\n",
        "<br>\n",
        "<br>\n",
        "\n",
        "해결법2 : 새로운 데이터를 추가할 때 마다 이전 데이터를 버림, 훈련데이터 크기를 일정하게 유지하는 방법\n",
        "\n",
        "단점 : 데이터를 버릴때 다른 데이터에 없는 중요한 생선 데이터가 포함되면 큰일\n",
        "<br>\n",
        "<br>\n",
        "\n",
        "해결법3 : 점진적 학습 방법 (온라인 학습, 훈련한 모델을 버리지않고 조금씩 더  새로운 데이터를 학습) -> 확률적 경사 하강법\n"
      ],
      "metadata": {
        "id": "EK5WaHBXIg5w"
      }
    },
    {
      "cell_type": "code",
      "execution_count": null,
      "metadata": {
        "id": "vdgO7kZ9Ed7Z"
      },
      "outputs": [],
      "source": [
        "# 확률적 경사 하강법 ( 실제 산에서 내려오는 것 처럼 가파른 길을 찾아 천천히 조금씩 내려옴)\n",
        "# 확률적 : 무작위, 랜덤 ( 훈련세트에서 랜덤하게 하나의 샘플을 고른다.)\n",
        "# 경사 : 기울기\n",
        "# 하강 : 내려가는\n",
        "# 확률적 경사 하강법은 훈련세트에서 랜덤하게 하나의 샘플을 선택해서 가파른 경사를 조금 내려감\n",
        "# 위 방법을 반복수행\n",
        "# 만약 모든 샘플을 다 사용해도 다 내려오지 못할 경우\n",
        "#    처음부터 다시 시작함\n",
        "#    훈련세트의 모든 샘플을 다시 채워놓음\n",
        "#    다시 랜덤하게 하나의 샘플을 선택하여 이어서 경사를 내려감\n",
        "# 만족할만한 위치에 도달할 때 까지 계속 내려감\n",
        "# 훈련세트를 한번 모두 사용하는 과정을 에포크(epoch)라고 함.\n",
        "#   일반적인 경사하강법은 수십, 수백번 이상 에포크를 수행한다.\n",
        "# 만약 실제로 등산이라고 가정하고 산에서 내려온다고 생각했을때 집으로 돌아가려면\n",
        "# 등산로의 입구까지 내려가야 한다.\n",
        "# 만약 어떤 산길도 척척 내려갈 수 있는 초능력이 있다면 가장 빠른 길을 선택하는것이 최선임\n",
        "# 가장 빠른 길은 경사가 가장 가파른 길"
      ]
    },
    {
      "cell_type": "code",
      "source": [
        "# 실제로 산에서 내려올 때는 천천히 조금씩 내려와야 한다. - > 경사 하강법\n",
        "# 가장 가파른 길을 찾아 내려오지만 조금씩 내려오는 것이 중요  -> 훈련법\n",
        "# 훈련세트를 사용해 모델을 훈련하기 떄문에 경사 하강법도 당연히 가장 가파른 길을 찾을 것\n",
        "# 그런데 전체 샘플을 사용하지 않고 딱 하나의 샘플을 훈련세트에서 랜덤하게 골라 가장 가파른 길을 찾는다. -> 확률적\n",
        "# 결론 : 훈련세트에서 랜덤하게 하나의 샘플을 선택해서 가파른 경사를 조금씩 내려간 다음 훈련세트에서\n",
        "# 랜덤하게 또 다른 샘플을 하나 선택하여 경사를 조금 내려간다. -> 전체 샘플을 모두 사용할 때 까지 진행\n"
      ],
      "metadata": {
        "id": "6_RYkHwfRSZh"
      },
      "execution_count": null,
      "outputs": []
    },
    {
      "cell_type": "code",
      "source": [
        "# 위 방법대로 샘플 한개를 이용하면 너무 무책임하게 내려갈 수 있다.\n",
        "# 잘못된 훈련으로 결과가 나오면 돌아갈 수 없다.\n",
        "# 이러한 문제점을 해소하기 위해 무작위로 몇개의 샘플을 선택해서 경사를 내려간다면\n",
        "    # 미니 배치 경사 하강법 : 여러개의 샘플을 사용해서 경사하강진행\n",
        "    # 배치 경사 하강법 : 극단적으로 한번 경사로를 따라 이동 ( 전체 샘플 사용 )\n",
        "        # 단점 : 컴퓨터 자원을 너무 많이 사용한다.\n",
        "        # 한번에 전체 데이터를 모두 읽지 못 할 수 있다.\n",
        "# 확률적 경사 하강법은 훈련 세트를 사용해 산 아래에 있는 최적의 장소로 조금씩 이동\n",
        "# 이 때문에 훈련 데이터가 모두 준비되어 있지 않고 매일매일 업데이트 되어도 학습을 이어나갈 수 있다.\n",
        "# 다시 산꼭대기 부터 시작할 필요가 없다. - > 신경망 알고리즘을 사용한다.\n"
      ],
      "metadata": {
        "id": "seMnxfhbSj1S"
      },
      "execution_count": null,
      "outputs": []
    },
    {
      "cell_type": "code",
      "source": [
        "# 손실 함수 ( Loss function) -> 머신러닝의 알고리즘이 얼마나 엉터리인지 측정하는 기준 ( 적을수록 좋다)\n",
        "    # -> 이 값을 찾아서 조금씩 이동\n",
        "# 비용 함수 (Cost function) -> 훈련세트에 있는 모든 샘플에 대한 손실함수의 합\n",
        "# 에포크(epoch : 시대) -> 훈련세트를 한번 모두 사용하는 과정\n"
      ],
      "metadata": {
        "id": "qfPxlHfYUr1z"
      },
      "execution_count": null,
      "outputs": []
    },
    {
      "cell_type": "code",
      "source": [
        "import pandas as pd\n",
        "\n",
        "fish = pd.read_csv('https://bit.ly/fish_csv_data')\n",
        "fish.head() # fish에 있는 리스트 위에 5개 출력\n"
      ],
      "metadata": {
        "colab": {
          "base_uri": "https://localhost:8080/",
          "height": 206
        },
        "id": "zZIX3WbcXVXN",
        "outputId": "1e2926b0-7e1d-40ac-ea42-78bfe2b9bf84"
      },
      "execution_count": null,
      "outputs": [
        {
          "output_type": "execute_result",
          "data": {
            "text/plain": [
              "  Species  Weight  Length  Diagonal   Height   Width\n",
              "0   Bream   242.0    25.4      30.0  11.5200  4.0200\n",
              "1   Bream   290.0    26.3      31.2  12.4800  4.3056\n",
              "2   Bream   340.0    26.5      31.1  12.3778  4.6961\n",
              "3   Bream   363.0    29.0      33.5  12.7300  4.4555\n",
              "4   Bream   430.0    29.0      34.0  12.4440  5.1340"
            ],
            "text/html": [
              "\n",
              "  <div id=\"df-caa4c0dc-b003-4e25-b4d3-71ae3b40f113\" class=\"colab-df-container\">\n",
              "    <div>\n",
              "<style scoped>\n",
              "    .dataframe tbody tr th:only-of-type {\n",
              "        vertical-align: middle;\n",
              "    }\n",
              "\n",
              "    .dataframe tbody tr th {\n",
              "        vertical-align: top;\n",
              "    }\n",
              "\n",
              "    .dataframe thead th {\n",
              "        text-align: right;\n",
              "    }\n",
              "</style>\n",
              "<table border=\"1\" class=\"dataframe\">\n",
              "  <thead>\n",
              "    <tr style=\"text-align: right;\">\n",
              "      <th></th>\n",
              "      <th>Species</th>\n",
              "      <th>Weight</th>\n",
              "      <th>Length</th>\n",
              "      <th>Diagonal</th>\n",
              "      <th>Height</th>\n",
              "      <th>Width</th>\n",
              "    </tr>\n",
              "  </thead>\n",
              "  <tbody>\n",
              "    <tr>\n",
              "      <th>0</th>\n",
              "      <td>Bream</td>\n",
              "      <td>242.0</td>\n",
              "      <td>25.4</td>\n",
              "      <td>30.0</td>\n",
              "      <td>11.5200</td>\n",
              "      <td>4.0200</td>\n",
              "    </tr>\n",
              "    <tr>\n",
              "      <th>1</th>\n",
              "      <td>Bream</td>\n",
              "      <td>290.0</td>\n",
              "      <td>26.3</td>\n",
              "      <td>31.2</td>\n",
              "      <td>12.4800</td>\n",
              "      <td>4.3056</td>\n",
              "    </tr>\n",
              "    <tr>\n",
              "      <th>2</th>\n",
              "      <td>Bream</td>\n",
              "      <td>340.0</td>\n",
              "      <td>26.5</td>\n",
              "      <td>31.1</td>\n",
              "      <td>12.3778</td>\n",
              "      <td>4.6961</td>\n",
              "    </tr>\n",
              "    <tr>\n",
              "      <th>3</th>\n",
              "      <td>Bream</td>\n",
              "      <td>363.0</td>\n",
              "      <td>29.0</td>\n",
              "      <td>33.5</td>\n",
              "      <td>12.7300</td>\n",
              "      <td>4.4555</td>\n",
              "    </tr>\n",
              "    <tr>\n",
              "      <th>4</th>\n",
              "      <td>Bream</td>\n",
              "      <td>430.0</td>\n",
              "      <td>29.0</td>\n",
              "      <td>34.0</td>\n",
              "      <td>12.4440</td>\n",
              "      <td>5.1340</td>\n",
              "    </tr>\n",
              "  </tbody>\n",
              "</table>\n",
              "</div>\n",
              "    <div class=\"colab-df-buttons\">\n",
              "\n",
              "  <div class=\"colab-df-container\">\n",
              "    <button class=\"colab-df-convert\" onclick=\"convertToInteractive('df-caa4c0dc-b003-4e25-b4d3-71ae3b40f113')\"\n",
              "            title=\"Convert this dataframe to an interactive table.\"\n",
              "            style=\"display:none;\">\n",
              "\n",
              "  <svg xmlns=\"http://www.w3.org/2000/svg\" height=\"24px\" viewBox=\"0 -960 960 960\">\n",
              "    <path d=\"M120-120v-720h720v720H120Zm60-500h600v-160H180v160Zm220 220h160v-160H400v160Zm0 220h160v-160H400v160ZM180-400h160v-160H180v160Zm440 0h160v-160H620v160ZM180-180h160v-160H180v160Zm440 0h160v-160H620v160Z\"/>\n",
              "  </svg>\n",
              "    </button>\n",
              "\n",
              "  <style>\n",
              "    .colab-df-container {\n",
              "      display:flex;\n",
              "      gap: 12px;\n",
              "    }\n",
              "\n",
              "    .colab-df-convert {\n",
              "      background-color: #E8F0FE;\n",
              "      border: none;\n",
              "      border-radius: 50%;\n",
              "      cursor: pointer;\n",
              "      display: none;\n",
              "      fill: #1967D2;\n",
              "      height: 32px;\n",
              "      padding: 0 0 0 0;\n",
              "      width: 32px;\n",
              "    }\n",
              "\n",
              "    .colab-df-convert:hover {\n",
              "      background-color: #E2EBFA;\n",
              "      box-shadow: 0px 1px 2px rgba(60, 64, 67, 0.3), 0px 1px 3px 1px rgba(60, 64, 67, 0.15);\n",
              "      fill: #174EA6;\n",
              "    }\n",
              "\n",
              "    .colab-df-buttons div {\n",
              "      margin-bottom: 4px;\n",
              "    }\n",
              "\n",
              "    [theme=dark] .colab-df-convert {\n",
              "      background-color: #3B4455;\n",
              "      fill: #D2E3FC;\n",
              "    }\n",
              "\n",
              "    [theme=dark] .colab-df-convert:hover {\n",
              "      background-color: #434B5C;\n",
              "      box-shadow: 0px 1px 3px 1px rgba(0, 0, 0, 0.15);\n",
              "      filter: drop-shadow(0px 1px 2px rgba(0, 0, 0, 0.3));\n",
              "      fill: #FFFFFF;\n",
              "    }\n",
              "  </style>\n",
              "\n",
              "    <script>\n",
              "      const buttonEl =\n",
              "        document.querySelector('#df-caa4c0dc-b003-4e25-b4d3-71ae3b40f113 button.colab-df-convert');\n",
              "      buttonEl.style.display =\n",
              "        google.colab.kernel.accessAllowed ? 'block' : 'none';\n",
              "\n",
              "      async function convertToInteractive(key) {\n",
              "        const element = document.querySelector('#df-caa4c0dc-b003-4e25-b4d3-71ae3b40f113');\n",
              "        const dataTable =\n",
              "          await google.colab.kernel.invokeFunction('convertToInteractive',\n",
              "                                                    [key], {});\n",
              "        if (!dataTable) return;\n",
              "\n",
              "        const docLinkHtml = 'Like what you see? Visit the ' +\n",
              "          '<a target=\"_blank\" href=https://colab.research.google.com/notebooks/data_table.ipynb>data table notebook</a>'\n",
              "          + ' to learn more about interactive tables.';\n",
              "        element.innerHTML = '';\n",
              "        dataTable['output_type'] = 'display_data';\n",
              "        await google.colab.output.renderOutput(dataTable, element);\n",
              "        const docLink = document.createElement('div');\n",
              "        docLink.innerHTML = docLinkHtml;\n",
              "        element.appendChild(docLink);\n",
              "      }\n",
              "    </script>\n",
              "  </div>\n",
              "\n",
              "\n",
              "<div id=\"df-d6bca01b-4b91-445a-a7e0-e702c4e247e6\">\n",
              "  <button class=\"colab-df-quickchart\" onclick=\"quickchart('df-d6bca01b-4b91-445a-a7e0-e702c4e247e6')\"\n",
              "            title=\"Suggest charts\"\n",
              "            style=\"display:none;\">\n",
              "\n",
              "<svg xmlns=\"http://www.w3.org/2000/svg\" height=\"24px\"viewBox=\"0 0 24 24\"\n",
              "     width=\"24px\">\n",
              "    <g>\n",
              "        <path d=\"M19 3H5c-1.1 0-2 .9-2 2v14c0 1.1.9 2 2 2h14c1.1 0 2-.9 2-2V5c0-1.1-.9-2-2-2zM9 17H7v-7h2v7zm4 0h-2V7h2v10zm4 0h-2v-4h2v4z\"/>\n",
              "    </g>\n",
              "</svg>\n",
              "  </button>\n",
              "\n",
              "<style>\n",
              "  .colab-df-quickchart {\n",
              "      --bg-color: #E8F0FE;\n",
              "      --fill-color: #1967D2;\n",
              "      --hover-bg-color: #E2EBFA;\n",
              "      --hover-fill-color: #174EA6;\n",
              "      --disabled-fill-color: #AAA;\n",
              "      --disabled-bg-color: #DDD;\n",
              "  }\n",
              "\n",
              "  [theme=dark] .colab-df-quickchart {\n",
              "      --bg-color: #3B4455;\n",
              "      --fill-color: #D2E3FC;\n",
              "      --hover-bg-color: #434B5C;\n",
              "      --hover-fill-color: #FFFFFF;\n",
              "      --disabled-bg-color: #3B4455;\n",
              "      --disabled-fill-color: #666;\n",
              "  }\n",
              "\n",
              "  .colab-df-quickchart {\n",
              "    background-color: var(--bg-color);\n",
              "    border: none;\n",
              "    border-radius: 50%;\n",
              "    cursor: pointer;\n",
              "    display: none;\n",
              "    fill: var(--fill-color);\n",
              "    height: 32px;\n",
              "    padding: 0;\n",
              "    width: 32px;\n",
              "  }\n",
              "\n",
              "  .colab-df-quickchart:hover {\n",
              "    background-color: var(--hover-bg-color);\n",
              "    box-shadow: 0 1px 2px rgba(60, 64, 67, 0.3), 0 1px 3px 1px rgba(60, 64, 67, 0.15);\n",
              "    fill: var(--button-hover-fill-color);\n",
              "  }\n",
              "\n",
              "  .colab-df-quickchart-complete:disabled,\n",
              "  .colab-df-quickchart-complete:disabled:hover {\n",
              "    background-color: var(--disabled-bg-color);\n",
              "    fill: var(--disabled-fill-color);\n",
              "    box-shadow: none;\n",
              "  }\n",
              "\n",
              "  .colab-df-spinner {\n",
              "    border: 2px solid var(--fill-color);\n",
              "    border-color: transparent;\n",
              "    border-bottom-color: var(--fill-color);\n",
              "    animation:\n",
              "      spin 1s steps(1) infinite;\n",
              "  }\n",
              "\n",
              "  @keyframes spin {\n",
              "    0% {\n",
              "      border-color: transparent;\n",
              "      border-bottom-color: var(--fill-color);\n",
              "      border-left-color: var(--fill-color);\n",
              "    }\n",
              "    20% {\n",
              "      border-color: transparent;\n",
              "      border-left-color: var(--fill-color);\n",
              "      border-top-color: var(--fill-color);\n",
              "    }\n",
              "    30% {\n",
              "      border-color: transparent;\n",
              "      border-left-color: var(--fill-color);\n",
              "      border-top-color: var(--fill-color);\n",
              "      border-right-color: var(--fill-color);\n",
              "    }\n",
              "    40% {\n",
              "      border-color: transparent;\n",
              "      border-right-color: var(--fill-color);\n",
              "      border-top-color: var(--fill-color);\n",
              "    }\n",
              "    60% {\n",
              "      border-color: transparent;\n",
              "      border-right-color: var(--fill-color);\n",
              "    }\n",
              "    80% {\n",
              "      border-color: transparent;\n",
              "      border-right-color: var(--fill-color);\n",
              "      border-bottom-color: var(--fill-color);\n",
              "    }\n",
              "    90% {\n",
              "      border-color: transparent;\n",
              "      border-bottom-color: var(--fill-color);\n",
              "    }\n",
              "  }\n",
              "</style>\n",
              "\n",
              "  <script>\n",
              "    async function quickchart(key) {\n",
              "      const quickchartButtonEl =\n",
              "        document.querySelector('#' + key + ' button');\n",
              "      quickchartButtonEl.disabled = true;  // To prevent multiple clicks.\n",
              "      quickchartButtonEl.classList.add('colab-df-spinner');\n",
              "      try {\n",
              "        const charts = await google.colab.kernel.invokeFunction(\n",
              "            'suggestCharts', [key], {});\n",
              "      } catch (error) {\n",
              "        console.error('Error during call to suggestCharts:', error);\n",
              "      }\n",
              "      quickchartButtonEl.classList.remove('colab-df-spinner');\n",
              "      quickchartButtonEl.classList.add('colab-df-quickchart-complete');\n",
              "    }\n",
              "    (() => {\n",
              "      let quickchartButtonEl =\n",
              "        document.querySelector('#df-d6bca01b-4b91-445a-a7e0-e702c4e247e6 button');\n",
              "      quickchartButtonEl.style.display =\n",
              "        google.colab.kernel.accessAllowed ? 'block' : 'none';\n",
              "    })();\n",
              "  </script>\n",
              "</div>\n",
              "\n",
              "    </div>\n",
              "  </div>\n"
            ],
            "application/vnd.google.colaboratory.intrinsic+json": {
              "type": "dataframe",
              "variable_name": "fish",
              "summary": "{\n  \"name\": \"fish\",\n  \"rows\": 159,\n  \"fields\": [\n    {\n      \"column\": \"Species\",\n      \"properties\": {\n        \"dtype\": \"category\",\n        \"num_unique_values\": 7,\n        \"samples\": [\n          \"Bream\",\n          \"Roach\",\n          \"Pike\"\n        ],\n        \"semantic_type\": \"\",\n        \"description\": \"\"\n      }\n    },\n    {\n      \"column\": \"Weight\",\n      \"properties\": {\n        \"dtype\": \"number\",\n        \"std\": 357.9783165508931,\n        \"min\": 0.0,\n        \"max\": 1650.0,\n        \"num_unique_values\": 101,\n        \"samples\": [\n          770.0,\n          51.5,\n          197.0\n        ],\n        \"semantic_type\": \"\",\n        \"description\": \"\"\n      }\n    },\n    {\n      \"column\": \"Length\",\n      \"properties\": {\n        \"dtype\": \"number\",\n        \"std\": 10.716328098884247,\n        \"min\": 8.4,\n        \"max\": 63.4,\n        \"num_unique_values\": 93,\n        \"samples\": [\n          14.7,\n          18.8,\n          19.6\n        ],\n        \"semantic_type\": \"\",\n        \"description\": \"\"\n      }\n    },\n    {\n      \"column\": \"Diagonal\",\n      \"properties\": {\n        \"dtype\": \"number\",\n        \"std\": 11.610245832690964,\n        \"min\": 8.8,\n        \"max\": 68.0,\n        \"num_unique_values\": 124,\n        \"samples\": [\n          39.2,\n          27.2,\n          23.1\n        ],\n        \"semantic_type\": \"\",\n        \"description\": \"\"\n      }\n    },\n    {\n      \"column\": \"Height\",\n      \"properties\": {\n        \"dtype\": \"number\",\n        \"std\": 4.286207619968867,\n        \"min\": 1.7284,\n        \"max\": 18.957,\n        \"num_unique_values\": 154,\n        \"samples\": [\n          15.438,\n          7.293,\n          2.8728\n        ],\n        \"semantic_type\": \"\",\n        \"description\": \"\"\n      }\n    },\n    {\n      \"column\": \"Width\",\n      \"properties\": {\n        \"dtype\": \"number\",\n        \"std\": 1.6858038699921671,\n        \"min\": 1.0476,\n        \"max\": 8.142,\n        \"num_unique_values\": 152,\n        \"samples\": [\n          3.1571,\n          1.3936,\n          3.6835\n        ],\n        \"semantic_type\": \"\",\n        \"description\": \"\"\n      }\n    }\n  ]\n}"
            }
          },
          "metadata": {},
          "execution_count": 36
        }
      ]
    },
    {
      "cell_type": "code",
      "source": [
        "fish_input = fish[['Weight','Length','Diagonal','Height','Width']].to_numpy()\n",
        "# Species(어종) 을 제외한 나머지 필드를 fish_input 변수에 리스트 넣음\n",
        "fish_target = fish['Species'].to_numpy()    #species(어종) 정답파일로 생성\n",
        "print(fish_target)"
      ],
      "metadata": {
        "colab": {
          "base_uri": "https://localhost:8080/"
        },
        "id": "4-4NOt1mXkkq",
        "outputId": "5c0d7b38-f73f-4532-9f3f-2fe2bcb65e31"
      },
      "execution_count": null,
      "outputs": [
        {
          "output_type": "stream",
          "name": "stdout",
          "text": [
            "['Bream' 'Bream' 'Bream' 'Bream' 'Bream' 'Bream' 'Bream' 'Bream' 'Bream'\n",
            " 'Bream' 'Bream' 'Bream' 'Bream' 'Bream' 'Bream' 'Bream' 'Bream' 'Bream'\n",
            " 'Bream' 'Bream' 'Bream' 'Bream' 'Bream' 'Bream' 'Bream' 'Bream' 'Bream'\n",
            " 'Bream' 'Bream' 'Bream' 'Bream' 'Bream' 'Bream' 'Bream' 'Bream' 'Roach'\n",
            " 'Roach' 'Roach' 'Roach' 'Roach' 'Roach' 'Roach' 'Roach' 'Roach' 'Roach'\n",
            " 'Roach' 'Roach' 'Roach' 'Roach' 'Roach' 'Roach' 'Roach' 'Roach' 'Roach'\n",
            " 'Roach' 'Whitefish' 'Whitefish' 'Whitefish' 'Whitefish' 'Whitefish'\n",
            " 'Whitefish' 'Parkki' 'Parkki' 'Parkki' 'Parkki' 'Parkki' 'Parkki'\n",
            " 'Parkki' 'Parkki' 'Parkki' 'Parkki' 'Parkki' 'Perch' 'Perch' 'Perch'\n",
            " 'Perch' 'Perch' 'Perch' 'Perch' 'Perch' 'Perch' 'Perch' 'Perch' 'Perch'\n",
            " 'Perch' 'Perch' 'Perch' 'Perch' 'Perch' 'Perch' 'Perch' 'Perch' 'Perch'\n",
            " 'Perch' 'Perch' 'Perch' 'Perch' 'Perch' 'Perch' 'Perch' 'Perch' 'Perch'\n",
            " 'Perch' 'Perch' 'Perch' 'Perch' 'Perch' 'Perch' 'Perch' 'Perch' 'Perch'\n",
            " 'Perch' 'Perch' 'Perch' 'Perch' 'Perch' 'Perch' 'Perch' 'Perch' 'Perch'\n",
            " 'Perch' 'Perch' 'Perch' 'Perch' 'Perch' 'Perch' 'Perch' 'Perch' 'Pike'\n",
            " 'Pike' 'Pike' 'Pike' 'Pike' 'Pike' 'Pike' 'Pike' 'Pike' 'Pike' 'Pike'\n",
            " 'Pike' 'Pike' 'Pike' 'Pike' 'Pike' 'Pike' 'Smelt' 'Smelt' 'Smelt' 'Smelt'\n",
            " 'Smelt' 'Smelt' 'Smelt' 'Smelt' 'Smelt' 'Smelt' 'Smelt' 'Smelt' 'Smelt'\n",
            " 'Smelt']\n"
          ]
        }
      ]
    },
    {
      "cell_type": "code",
      "source": [
        "from sklearn.model_selection import train_test_split\n",
        "import numpy as np\n",
        "np.set_printoptions(precision=6, suppress=True)\n",
        "# 사이킷런을 이용해서 훈련자료와 테스트 자료를 나눔\n",
        "train_input , test_input, train_target, test_target = train_test_split(fish_input,fish_target,random_state=42)\n",
        "print('train_input')\n",
        "print(train_input)      # (119,5)"
      ],
      "metadata": {
        "colab": {
          "base_uri": "https://localhost:8080/"
        },
        "id": "1GCRtcl3ZoAj",
        "outputId": "9a29b79e-807d-4fd1-f8fa-eb7b2a04e746"
      },
      "execution_count": null,
      "outputs": [
        {
          "output_type": "stream",
          "name": "stdout",
          "text": [
            "train_input\n",
            "[[ 720.       35.       40.6      16.3618    6.09  ]\n",
            " [ 500.       45.       48.        6.96      4.896 ]\n",
            " [   7.5      10.5      11.6       1.972     1.16  ]\n",
            " [ 110.       22.       23.5       5.5225    3.995 ]\n",
            " [ 140.       20.7      23.2       8.5376    3.2944]\n",
            " [  69.       18.2      20.3       5.2983    2.8217]\n",
            " [ 110.       21.       22.5       5.6925    3.555 ]\n",
            " [ 620.       34.5      39.7      15.5227    5.2801]\n",
            " [ 130.       21.3      22.8       6.384     3.534 ]\n",
            " [  85.       20.       21.        5.082     2.772 ]\n",
            " [ 685.       36.5      39.       10.881     6.864 ]\n",
            " [ 500.       31.       36.2      14.3714    4.8146]\n",
            " [ 514.       32.8      34.       10.03      6.018 ]\n",
            " [ 200.       23.       25.8      10.3458    3.6636]\n",
            " [1000.       44.       46.6      12.4888    7.5958]\n",
            " [ 714.       36.       41.5      16.517     5.8515]\n",
            " [   8.7      11.3      12.6       1.9782    1.2852]\n",
            " [1000.       43.       45.2      11.9328    7.2772]\n",
            " [ 110.       20.8      23.1       6.1677    3.3957]\n",
            " [ 430.       29.       34.       12.444     5.134 ]\n",
            " [ 456.       42.5      45.5       7.28      4.3225]\n",
            " [ 925.       39.5      45.3      18.7542    6.7497]\n",
            " [ 950.       51.7      55.1       8.9262    6.1712]\n",
            " [ 250.       27.5      28.9       7.2828    4.5662]\n",
            " [ 170.       20.7      23.2       9.396     3.4104]\n",
            " [ 475.       31.       36.2      14.2628    5.1042]\n",
            " [ 145.       22.7      24.2       5.9532    3.63  ]\n",
            " [ 300.       37.3      39.8       6.2884    4.0198]\n",
            " [ 242.       25.4      30.       11.52      4.02  ]\n",
            " [ 650.       39.       41.4      11.1366    6.003 ]\n",
            " [ 120.       19.       21.3       8.3922    2.9181]\n",
            " [ 145.       22.       24.3       6.6339    3.5478]\n",
            " [ 125.       21.       22.5       5.6925    3.6675]\n",
            " [ 850.       36.       41.6      16.8896    6.1984]\n",
            " [   0.       20.5      22.8       6.4752    3.3516]\n",
            " [ 840.       35.       37.3      11.4884    7.7957]\n",
            " [ 725.       35.       40.9      16.36      6.0532]\n",
            " [ 680.       35.       40.6      15.4686    6.1306]\n",
            " [ 690.       37.       39.3      10.5717    6.3666]\n",
            " [  80.       19.       20.2       5.6358    3.0502]\n",
            " [ 120.       20.       22.2       6.216     3.5742]\n",
            " [1600.       60.       64.        9.6       6.144 ]\n",
            " [ 265.       27.5      28.9       7.0516    4.335 ]\n",
            " [  12.2      12.2      13.4       2.0904    1.3936]\n",
            " [ 345.       38.5      41.        6.396     3.977 ]\n",
            " [ 160.       22.5      25.        6.4       3.8   ]\n",
            " [ 850.       40.       42.3      11.9286    7.1064]\n",
            " [  55.       14.7      16.5       6.8475    2.3265]\n",
            " [  32.       13.7      14.7       3.528     1.9992]\n",
            " [ 975.       41.       45.9      18.6354    6.7473]\n",
            " [ 320.       30.       31.6       7.6156    4.7716]\n",
            " [   9.7      11.       12.        2.196     1.38  ]\n",
            " [1100.       42.       44.6      12.8002    6.8684]\n",
            " [  60.       15.5      17.4       6.5772    2.3142]\n",
            " [  19.7      14.3      15.2       2.8728    2.0672]\n",
            " [ 145.       24.       25.5       6.375     3.825 ]\n",
            " [ 197.       25.6      27.        6.561     4.239 ]\n",
            " [ 272.       27.       30.6       8.568     4.7736]\n",
            " [ 450.       29.7      34.7      13.6024    4.9274]\n",
            " [ 700.       37.       39.4      10.835     6.2646]\n",
            " [ 820.       40.       42.5      11.135     6.63  ]\n",
            " [ 161.       23.4      26.7       6.9153    3.6312]\n",
            " [  40.       14.1      16.2       4.1472    2.268 ]\n",
            " [  85.       19.6      20.8       5.1376    3.0368]\n",
            " [ 100.       18.       19.2       5.2224    3.3216]\n",
            " [ 950.       41.       46.5      17.6235    6.3705]\n",
            " [ 140.       22.5      25.        6.55      3.325 ]\n",
            " [ 390.       30.       35.       12.67      4.69  ]\n",
            " [ 150.       22.       24.7       5.8045    3.7544]\n",
            " [ 273.       25.       28.       11.088     4.144 ]\n",
            " [ 900.       40.       42.5      11.73      7.225 ]\n",
            " [ 556.       34.5      36.5      10.2565    6.3875]\n",
            " [ 130.       22.5      24.        5.856     3.624 ]\n",
            " [ 115.       21.       22.5       5.9175    3.3075]\n",
            " [1550.       60.       64.        9.6       6.144 ]\n",
            " [1650.       63.4      68.       10.812     7.48  ]\n",
            " [ 135.       22.       23.5       5.875     3.525 ]\n",
            " [ 450.       30.       35.1      14.0049    4.8438]\n",
            " [ 700.       36.       38.3      10.6091    6.7408]\n",
            " [ 340.       32.       37.3      13.9129    5.0728]\n",
            " [ 800.       36.4      39.6      11.7612    6.5736]\n",
            " [ 540.       43.       45.8       7.786     5.1296]\n",
            " [ 363.       29.       33.5      12.73      4.4555]\n",
            " [ 700.       33.       38.5      14.938     5.1975]\n",
            " [  87.       19.8      22.2       5.6166    3.1746]\n",
            " [   5.9       8.4       8.8       2.112     1.408 ]\n",
            " [ 770.       48.       51.2       7.68      5.376 ]\n",
            " [ 500.       29.7      34.5      14.1795    5.2785]\n",
            " [ 430.       38.       40.5       7.29      4.5765]\n",
            " [  90.       17.7      19.8       7.4052    2.673 ]\n",
            " [ 390.       31.7      35.        9.485     5.355 ]\n",
            " [ 300.       28.7      30.1       7.5852    4.6354]\n",
            " [ 200.       23.5      26.8       7.3968    4.1272]\n",
            " [  12.2      13.       13.8       2.277     1.2558]\n",
            " [ 540.       31.       34.       10.744     6.562 ]\n",
            " [ 169.       24.       27.2       7.5344    3.8352]\n",
            " [ 130.       22.       23.5       6.11      3.525 ]\n",
            " [ 685.       34.       39.2      15.9936    5.3704]\n",
            " [ 306.       28.       30.8       8.778     4.6816]\n",
            " [   9.8      12.       13.2       2.2044    1.1484]\n",
            " [ 300.       34.       37.8       5.7078    4.158 ]\n",
            " [  78.       18.8      21.2       5.5756    2.9044]\n",
            " [   9.8      11.2      12.4       2.0832    1.2772]\n",
            " [ 290.       26.3      31.2      12.48      4.3056]\n",
            " [ 290.       26.       29.2       8.8768    4.4968]\n",
            " [ 300.       35.       38.8       5.9364    4.3844]\n",
            " [ 260.       27.5      28.9       7.1672    4.335 ]\n",
            " [ 180.       25.       26.5       6.4395    3.6835]\n",
            " [ 900.       39.       41.4      11.1366    7.4934]\n",
            " [ 120.       22.       23.5       5.64      3.525 ]\n",
            " [  40.       15.       16.        3.824     2.432 ]\n",
            " [1015.       40.       42.4      12.3808    7.4624]\n",
            " [  19.9      15.       16.2       2.9322    1.8792]\n",
            " [ 575.       34.       39.5      15.1285    5.5695]\n",
            " [ 300.       26.       29.       11.368     4.234 ]\n",
            " [ 250.       28.       29.4       7.8204    4.2042]\n",
            " [ 600.       32.       37.2      14.9544    5.1708]\n",
            " [ 150.       22.5      24.        6.792     3.624 ]\n",
            " [ 300.       27.3      28.7       8.323     5.1373]]\n"
          ]
        }
      ]
    },
    {
      "cell_type": "code",
      "source": [
        "print(train_input.shape)"
      ],
      "metadata": {
        "colab": {
          "base_uri": "https://localhost:8080/"
        },
        "id": "j0NBqIXBaIz6",
        "outputId": "f96c0ab4-d68a-4ae0-e124-d8ffe2c06127"
      },
      "execution_count": null,
      "outputs": [
        {
          "output_type": "stream",
          "name": "stdout",
          "text": [
            "(119, 5)\n"
          ]
        }
      ]
    },
    {
      "cell_type": "code",
      "source": [
        "print('test_input')\n",
        "print(test_input)\n",
        "print(test_input.shape)"
      ],
      "metadata": {
        "colab": {
          "base_uri": "https://localhost:8080/"
        },
        "id": "3KAvC51FdcIT",
        "outputId": "1449409e-9650-493e-af54-906c1bd439e2"
      },
      "execution_count": null,
      "outputs": [
        {
          "output_type": "stream",
          "name": "stdout",
          "text": [
            "test_input\n",
            "[[  78.       18.7      19.4       5.1992    3.1234]\n",
            " [  13.4      12.4      13.5       2.43      1.269 ]\n",
            " [ 200.       32.3      34.8       5.568     3.3756]\n",
            " [ 270.       26.       28.7       8.3804    4.2476]\n",
            " [ 150.       23.       24.5       5.2185    3.626 ]\n",
            " [1000.       37.       42.6      18.957     6.603 ]\n",
            " [   7.       10.6      11.6       1.7284    1.1484]\n",
            " [ 180.       25.2      27.9       7.0866    3.906 ]\n",
            " [ 188.       24.6      26.2       6.7334    4.1658]\n",
            " [1250.       56.       59.7      10.6863    6.9849]\n",
            " [ 650.       33.5      38.7      14.4738    5.7276]\n",
            " [1000.       40.       43.5      12.354     6.525 ]\n",
            " [ 600.       32.       37.2      15.438     5.58  ]\n",
            " [ 150.       20.       22.4       8.8928    3.2928]\n",
            " [ 700.       35.       40.5      16.2405    5.589 ]\n",
            " [ 920.       38.5      44.1      18.0369    6.3063]\n",
            " [1000.       43.5      46.       12.604     8.142 ]\n",
            " [ 218.       26.5      28.        7.168     4.144 ]\n",
            " [ 225.       24.       25.5       7.293     3.723 ]\n",
            " [ 700.       33.       38.3      14.8604    5.2854]\n",
            " [  10.       11.8      13.1       2.2139    1.2838]\n",
            " [ 610.       33.5      38.6      15.633     5.1338]\n",
            " [ 500.       31.5      36.4      13.7592    4.368 ]\n",
            " [ 500.       30.7      36.2      14.2266    4.9594]\n",
            " [ 955.       38.5      44.       18.084     6.292 ]\n",
            " [1100.       43.       45.5      12.5125    7.4165]\n",
            " [ 170.       23.5      25.        6.275     3.725 ]\n",
            " [ 270.       26.5      29.3       8.1454    4.2485]\n",
            " [   6.7       9.8      10.8       1.7388    1.0476]\n",
            " [   9.9      11.8      13.1       2.2139    1.1659]\n",
            " [ 510.       42.5      45.5       6.825     4.459 ]\n",
            " [  70.       17.4      18.5       4.588     2.9415]\n",
            " [  51.5      16.2      17.2       4.5924    2.6316]\n",
            " [ 567.       46.       48.7       7.792     4.87  ]\n",
            " [ 340.       26.5      31.1      12.3778    4.6961]\n",
            " [ 120.       22.       23.5       6.11      3.4075]\n",
            " [ 160.       22.5      25.3       7.0334    3.8203]\n",
            " [ 120.       21.       23.7       6.1146    3.2943]\n",
            " [ 145.       21.5      24.1       9.7364    3.1571]\n",
            " [ 820.       39.       41.3      12.4313    7.3514]]\n",
            "(40, 5)\n"
          ]
        }
      ]
    },
    {
      "cell_type": "code",
      "source": [
        "print(test_input.shape)"
      ],
      "metadata": {
        "colab": {
          "base_uri": "https://localhost:8080/"
        },
        "id": "Lpbn7mCSdpVJ",
        "outputId": "db5108df-a6dc-4963-e3da-676c271b5795"
      },
      "execution_count": null,
      "outputs": [
        {
          "output_type": "stream",
          "name": "stdout",
          "text": [
            "(40, 5)\n"
          ]
        }
      ]
    },
    {
      "cell_type": "code",
      "source": [
        "print(train_target) #119개"
      ],
      "metadata": {
        "colab": {
          "base_uri": "https://localhost:8080/"
        },
        "id": "f-S4K8lgdsCx",
        "outputId": "ecdf104e-da48-45c4-cf57-80070339881a"
      },
      "execution_count": null,
      "outputs": [
        {
          "output_type": "stream",
          "name": "stdout",
          "text": [
            "['Bream' 'Pike' 'Smelt' 'Perch' 'Parkki' 'Roach' 'Perch' 'Bream' 'Perch'\n",
            " 'Perch' 'Perch' 'Bream' 'Perch' 'Parkki' 'Perch' 'Bream' 'Smelt' 'Perch'\n",
            " 'Roach' 'Bream' 'Pike' 'Bream' 'Pike' 'Perch' 'Parkki' 'Bream' 'Perch'\n",
            " 'Pike' 'Bream' 'Perch' 'Parkki' 'Roach' 'Perch' 'Bream' 'Roach' 'Perch'\n",
            " 'Bream' 'Bream' 'Perch' 'Perch' 'Roach' 'Pike' 'Perch' 'Smelt' 'Pike'\n",
            " 'Roach' 'Perch' 'Parkki' 'Perch' 'Bream' 'Perch' 'Smelt' 'Perch' 'Parkki'\n",
            " 'Smelt' 'Perch' 'Perch' 'Roach' 'Bream' 'Perch' 'Perch' 'Roach' 'Roach'\n",
            " 'Perch' 'Perch' 'Bream' 'Roach' 'Bream' 'Roach' 'Parkki' 'Perch' 'Perch'\n",
            " 'Perch' 'Perch' 'Pike' 'Pike' 'Perch' 'Bream' 'Perch' 'Bream' 'Whitefish'\n",
            " 'Pike' 'Bream' 'Bream' 'Roach' 'Perch' 'Pike' 'Bream' 'Pike' 'Parkki'\n",
            " 'Roach' 'Perch' 'Roach' 'Smelt' 'Whitefish' 'Roach' 'Perch' 'Bream'\n",
            " 'Whitefish' 'Smelt' 'Pike' 'Roach' 'Smelt' 'Bream' 'Roach' 'Pike' 'Perch'\n",
            " 'Perch' 'Perch' 'Perch' 'Perch' 'Perch' 'Smelt' 'Bream' 'Parkki' 'Perch'\n",
            " 'Bream' 'Perch' 'Perch']\n"
          ]
        }
      ]
    },
    {
      "cell_type": "code",
      "source": [
        "print(train_target.shape)"
      ],
      "metadata": {
        "colab": {
          "base_uri": "https://localhost:8080/"
        },
        "id": "cbvpTyjtd0xD",
        "outputId": "02f7e1d4-1830-4c0c-f14e-b6f6399b1b57"
      },
      "execution_count": null,
      "outputs": [
        {
          "output_type": "stream",
          "name": "stdout",
          "text": [
            "(119,)\n"
          ]
        }
      ]
    },
    {
      "cell_type": "code",
      "source": [
        "print(test_target)  #40개"
      ],
      "metadata": {
        "colab": {
          "base_uri": "https://localhost:8080/"
        },
        "id": "7qIolYVOd7N4",
        "outputId": "66a31148-2e2e-474e-d4c7-10779c206e72"
      },
      "execution_count": null,
      "outputs": [
        {
          "output_type": "stream",
          "name": "stdout",
          "text": [
            "['Perch' 'Smelt' 'Pike' 'Whitefish' 'Perch' 'Bream' 'Smelt' 'Roach'\n",
            " 'Perch' 'Pike' 'Bream' 'Whitefish' 'Bream' 'Parkki' 'Bream' 'Bream'\n",
            " 'Perch' 'Perch' 'Perch' 'Bream' 'Smelt' 'Bream' 'Bream' 'Bream' 'Bream'\n",
            " 'Perch' 'Perch' 'Whitefish' 'Smelt' 'Smelt' 'Pike' 'Perch' 'Perch' 'Pike'\n",
            " 'Bream' 'Perch' 'Roach' 'Roach' 'Parkki' 'Perch']\n"
          ]
        }
      ]
    },
    {
      "cell_type": "code",
      "source": [
        "from sklearn.preprocessing import StandardScaler\n",
        "# 훈련세트와 테스트 세트의 특성을 표준화 전처리\n",
        "ss = StandardScaler()\n",
        "ss.fit(train_input)\n",
        "train_scaled = ss.transform(train_input)\n",
        "test_scaled = ss.transform(test_input)\n",
        "print(train_scaled[:5])"
      ],
      "metadata": {
        "colab": {
          "base_uri": "https://localhost:8080/"
        },
        "id": "Ti4786JVeJLR",
        "outputId": "6cffde25-0eab-497f-aa60-b0d73dc1fd1e"
      },
      "execution_count": null,
      "outputs": [
        {
          "output_type": "stream",
          "name": "stdout",
          "text": [
            "[[ 0.919658  0.609432  0.810412  1.851949  1.000757]\n",
            " [ 0.300412  1.546534  1.453166 -0.469817  0.272917]\n",
            " [-1.085854 -1.68647  -1.708486 -1.701598 -2.004476]\n",
            " [-0.797341 -0.608802 -0.674869 -0.824806 -0.276315]\n",
            " [-0.712899 -0.730625 -0.700927 -0.08023  -0.703387]]\n"
          ]
        }
      ]
    },
    {
      "cell_type": "code",
      "source": [
        "print(test_scaled[:5])"
      ],
      "metadata": {
        "colab": {
          "base_uri": "https://localhost:8080/"
        },
        "id": "Lwnm_KV6ef0M",
        "outputId": "a341672f-b108-432c-9b40-4178651d57a7"
      },
      "execution_count": null,
      "outputs": [
        {
          "output_type": "stream",
          "name": "stdout",
          "text": [
            "[[-0.887414 -0.918046 -1.030989 -0.904645 -0.807625]\n",
            " [-1.069247 -1.50842  -1.543455 -1.588496 -1.938032]\n",
            " [-0.544014  0.356414  0.306633 -0.81357  -0.653889]\n",
            " [-0.346981 -0.233961 -0.223205 -0.11905  -0.122335]\n",
            " [-0.684751 -0.515091 -0.588011 -0.899878 -0.50125 ]]\n"
          ]
        }
      ]
    },
    {
      "cell_type": "code",
      "source": [
        "from sklearn.linear_model import SGDClassifier\n",
        "# SGDClassifier : 사이킷런의 확률적 경사 하강법 제공, 2개의 매개변수를 지정\n",
        "# loss = 'log_loss' : 로지스틱 손실 함수 지정\n",
        "# max_iter=10 : 10회 에포크 반복( 전체 훈련세트를 10회 반복)\n",
        "sc = SGDClassifier(loss= 'log_loss',max_iter=10,random_state=42)            # 최적 33회 에포크\n",
        "sc.fit(train_scaled,train_target)\n",
        "\n",
        "print(sc.score(train_scaled,train_target))      # 77.31%\n",
        "print(sc.score(test_scaled,test_target))        # 77.5%     -> 반복횟수 부족으로 max_iter를 향상 후 훈련"
      ],
      "metadata": {
        "colab": {
          "base_uri": "https://localhost:8080/"
        },
        "id": "RbnxcOBNe6Bq",
        "outputId": "df320e67-868a-4449-a210-b08a84a195de"
      },
      "execution_count": null,
      "outputs": [
        {
          "output_type": "stream",
          "name": "stdout",
          "text": [
            "0.773109243697479\n",
            "0.775\n"
          ]
        },
        {
          "output_type": "stream",
          "name": "stderr",
          "text": [
            "/usr/local/lib/python3.10/dist-packages/sklearn/linear_model/_stochastic_gradient.py:738: ConvergenceWarning: Maximum number of iteration reached before convergence. Consider increasing max_iter to improve the fit.\n",
            "  warnings.warn(\n"
          ]
        }
      ]
    },
    {
      "cell_type": "code",
      "source": [
        "# 확률적 경사 하강법은 점진적 학습이 가능하다.\n",
        "# SGDClassifier 객체를 또 만들지 말고 훈련할 모델을 sc로 추가하여 훈련을 추가한다.\n",
        "\n",
        "sc.partial_fit(train_scaled,train_target)   # 부분적인 학습\n",
        "\n",
        "print(sc.score(train_scaled,train_target))  # 79.83\n",
        "print(sc.score(test_scaled,test_target))    # 77.5 -> 정확도가 향상되고 있음\n",
        "\n",
        "# 퍼센트가 증가함 -> 무작정 부분적인 학습을 계속하는 것은 의미가 없음 -> 기준점을 제공해야 함\n",
        "# 현재는 등산 내려오다가 정지된 느낌"
      ],
      "metadata": {
        "colab": {
          "base_uri": "https://localhost:8080/"
        },
        "id": "RWhRDdfiflxl",
        "outputId": "9cc7a7db-359d-4f0d-ae32-a774a3e29c92"
      },
      "execution_count": null,
      "outputs": [
        {
          "output_type": "stream",
          "name": "stdout",
          "text": [
            "0.7983193277310925\n",
            "0.775\n"
          ]
        }
      ]
    },
    {
      "cell_type": "code",
      "source": [
        "# 에포크와 과대/과소적합\n",
        "# 확률적 경사 하강법을 사용한 모델은 에포크 횟수에 따라 과소, 과대 적합이 될 수 있다.\n",
        "# 에포크 횟수가 적으면 훈련 세트를 덜 학습한다. (119개에서 10번만 랜덤추출하고 정지)\n",
        "# 에포크 횟수가 충분히 많으면 훈련 세트를 완전히 학습할 것이다.( good)"
      ],
      "metadata": {
        "id": "cxFrr7xIiI0U"
      },
      "execution_count": null,
      "outputs": []
    },
    {
      "cell_type": "markdown",
      "source": [
        "![image.png](data:image/png;base64,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)"
      ],
      "metadata": {
        "id": "f48P2k-Pjn7u"
      }
    },
    {
      "cell_type": "code",
      "source": [
        "# 바꾸어 말하면 적은 에포크 횟수 동안에 훈련된 모델은 훈련세트와 테스트 세트에 맞지 않음(과소적합)\n",
        "# 반대로 에포크 횟수가 많은 훈련 모델인 경우 너무 잘 맞아 테스트 세트에는 오히려 점수가 나쁨 (과대적합)\n",
        "\n",
        "# 과대 적합이 되기 전에 훈련을 멈추는 것을 조기 종료라 한다.\n",
        "\n",
        "import numpy as np\n",
        "\n",
        "sc = SGDClassifier(loss='log_loss',random_state=42)\n",
        "\n",
        "train_score = []        # 훈련세트 점수를 누적하는 빈 리스트\n",
        "test_score = []         # 테스트세트 점수를 누적하는 빈 리스트\n",
        "# train_target에 있는 7개의 생선목록을 제공\n",
        "classes = np.unique(train_target)\n",
        "\n",
        "#파이썬의 _변수는 1회용 임시변수\n",
        "for _ in range(0,300):  # 300번의 에포크 동안 훈련 진행\n",
        "    sc.partial_fit(train_scaled, train_target, classes=classes) # 훈련을 부분적으로 추가하는 particial_fit\n",
        "    # 반복마다 훈련세트와 테스트 세트의 점수를 계산하여 train_score와 test_score 리스트에 추가함\n",
        "    train_score.append(sc.score(train_scaled,train_target))     # 훈련 세트 점수를 빈 리스트에 추가\n",
        "    test_score.append(sc.score(test_scaled,test_target))        # 테스트 세트 점수를 빈 리스트에 추가"
      ],
      "metadata": {
        "id": "qRzVpm3hjYU2"
      },
      "execution_count": 54,
      "outputs": []
    },
    {
      "cell_type": "code",
      "source": [
        "import matplotlib.pyplot as plt\n",
        "\n",
        "plt.plot(train_score)   # 훈련 세트 점수\n",
        "plt.plot(test_score)    # 테스트 세트 점수\n",
        "plt.xlabel('epoch')     # 에포크 횟수\n",
        "plt.ylabel('accuracy')  # 정확도\n",
        "plt.show()"
      ],
      "metadata": {
        "colab": {
          "base_uri": "https://localhost:8080/",
          "height": 449
        },
        "id": "7Vlt5D6zlsDN",
        "outputId": "afd08087-90f4-4f73-e350-8e4bd372e16e"
      },
      "execution_count": 57,
      "outputs": [
        {
          "output_type": "display_data",
          "data": {
            "text/plain": [
              "<Figure size 640x480 with 1 Axes>"
            ],
            "image/png": "[encoded data removed]"
          },
          "metadata": {}
        }
      ]
    },
    {
      "cell_type": "code",
      "source": [
        "# 결론 : 에포크 횟수를 100번 정도 돌리니 차트상으로 과대 과소적합이 아닌 최상으로 나옴\n",
        "\n",
        "sc= SGDClassifier(loss='log_loss',max_iter=100, tol=None, random_state=42)      #tol=None -> 조기종료하지 않음\n",
        "# 확률적 경사 하강법은 일정 에포크 동안 성능이 향상되지 않으면 더이상 훈련하지 않고 자동으로 멈춤.\n",
        "#\n",
        "sc.fit(train_scaled,train_target)\n",
        "\n",
        "print(sc.score(train_scaled,train_target))  # 95.79%\n",
        "print(sc.score(test_scaled,test_target))    # 92.5%      최적의 상태로 분석됨"
      ],
      "metadata": {
        "colab": {
          "base_uri": "https://localhost:8080/"
        },
        "id": "mHDgUAA0nDZ9",
        "outputId": "a4f722dd-ad4a-4173-b800-4e1ca8b0e137"
      },
      "execution_count": 58,
      "outputs": [
        {
          "output_type": "stream",
          "name": "stdout",
          "text": [
            "0.957983193277311\n",
            "0.925\n"
          ]
        }
      ]
    },
    {
      "cell_type": "code",
      "source": [
        "sc.predict(test_scaled[:5])\n",
        "\n",
        "proba = sc.predict_proba(test_scaled[:5])\n",
        "np.round(proba, decimals=3)"
      ],
      "metadata": {
        "colab": {
          "base_uri": "https://localhost:8080/"
        },
        "id": "S3IR8If4oXNy",
        "outputId": "8b1728e5-0206-4084-ca48-29ab0adfbcfc"
      },
      "execution_count": 60,
      "outputs": [
        {
          "output_type": "execute_result",
          "data": {
            "text/plain": [
              "array([[0.   , 0.003, 0.774, 0.   , 0.219, 0.   , 0.005],\n",
              "       [0.   , 0.001, 0.015, 0.   , 0.04 , 0.945, 0.   ],\n",
              "       [0.   , 0.   , 0.011, 0.96 , 0.02 , 0.008, 0.001],\n",
              "       [0.   , 0.   , 0.525, 0.   , 0.423, 0.   , 0.052],\n",
              "       [0.   , 0.   , 0.688, 0.   , 0.306, 0.   , 0.006]])"
            ]
          },
          "metadata": {},
          "execution_count": 60
        }
      ]
    },
    {
      "cell_type": "code",
      "source": [
        "sc.classes_"
      ],
      "metadata": {
        "colab": {
          "base_uri": "https://localhost:8080/"
        },
        "id": "o7geMMs1pwy6",
        "outputId": "f8f357c0-02b5-4ce3-ab9a-6ba777e15c35"
      },
      "execution_count": 61,
      "outputs": [
        {
          "output_type": "execute_result",
          "data": {
            "text/plain": [
              "array(['Bream', 'Parkki', 'Perch', 'Pike', 'Roach', 'Smelt', 'Whitefish'],\n",
              "      dtype='<U9')"
            ]
          },
          "metadata": {},
          "execution_count": 61
        }
      ]
    },
    {
      "cell_type": "code",
      "source": [
        "# 손실함수에 대한 loss 매개값\n",
        "# loss 매개값의 기본값은 loss=hinge     (힌지 손실) -> 서포트 백터 머신이라고 불린다.\n",
        "# 또다른 머신러닝 알고리즘을 위한 손실 함수이다.        https://velog.io/@lee9843/Word2Vec%EC%9D%84-%EC%9D%B4%ED%95%B4%ED%95%98%EA%B8%B0-%EC%9C%84%ED%95%9C-%EB%82%B4%EC%9A%A94-hinge-loss-%ED%9E%8C%EC%A7%80-%EC%86%90%EC%8B%A4\n",
        "\n",
        "sc = SGDClassifier(loss='hinge',max_iter=100,tol=None,random_state=42)\n",
        "sc.fit(train_scaled,train_target)\n",
        "\n",
        "print(sc.score(train_scaled,train_target))\n",
        "print(sc.score(test_scaled,test_target))"
      ],
      "metadata": {
        "colab": {
          "base_uri": "https://localhost:8080/"
        },
        "id": "jdaPHArvqurq",
        "outputId": "aecbe4ab-f7da-4b17-84d3-f2215905e68a"
      },
      "execution_count": 63,
      "outputs": [
        {
          "output_type": "stream",
          "name": "stdout",
          "text": [
            "0.9495798319327731\n",
            "0.925\n"
          ]
        }
      ]
    }
  ]
}